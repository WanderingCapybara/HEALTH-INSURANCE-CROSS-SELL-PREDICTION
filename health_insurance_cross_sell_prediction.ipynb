{
 "cells": [
  {
   "cell_type": "markdown",
   "id": "a32621a0-fce1-49a2-8a79-9b6bd6739f10",
   "metadata": {},
   "source": [
    "# Background\n",
    "<a id='background'></a>"
   ]
  },
  {
   "cell_type": "markdown",
   "id": "ffdf85fa-74d6-4da2-ac1d-eb4e61a426b3",
   "metadata": {},
   "source": [
    "The client, an insurance company, wants to create a model to forecast if their previous year's health insurance policyholders would also be inclined to buy vehicle insurance. Insurance policies provide compensation for specified losses or damages in exchange for regular premium payments. The premiums help cover potential costs, and the concept relies on probabilities to distribute risk among policyholders. The company wants to use demographic and policy-related information, such as age, gender, region, vehicle details, and premium amounts, to predict customer interest in vehicle insurance. This prediction will aid the company in tailoring communication strategies and optimizing its revenue."
   ]
  },
  {
   "cell_type": "markdown",
   "id": "5a5ca8b1-2393-47dd-b491-132ea71cdb1a",
   "metadata": {
    "tags": []
   },
   "source": [
    "# Data Exploration\n",
    "<a id='explor'></a>"
   ]
  },
  {
   "cell_type": "code",
   "execution_count": 333,
   "id": "deaf02ca-047f-465f-bc42-da3d9c0ccdf3",
   "metadata": {},
   "outputs": [],
   "source": [
    "import pandas as pd\n",
    "import numpy as np\n",
    "import matplotlib.pyplot as plt\n",
    "import seaborn as sns\n",
    "import warnings\n",
    "\n",
    "warnings.filterwarnings('ignore')\n",
    "%matplotlib inline"
   ]
  },
  {
   "cell_type": "code",
   "execution_count": 334,
   "id": "41c270e4-0d1b-4d05-be58-d3b01aa6d042",
   "metadata": {},
   "outputs": [],
   "source": [
    "df= pd.read_csv('train.csv')"
   ]
  },
  {
   "cell_type": "code",
   "execution_count": 335,
   "id": "fc6ee2f0-35b5-46c9-a29b-bf216ffd8022",
   "metadata": {},
   "outputs": [
    {
     "data": {
      "text/html": [
       "<div>\n",
       "<style scoped>\n",
       "    .dataframe tbody tr th:only-of-type {\n",
       "        vertical-align: middle;\n",
       "    }\n",
       "\n",
       "    .dataframe tbody tr th {\n",
       "        vertical-align: top;\n",
       "    }\n",
       "\n",
       "    .dataframe thead th {\n",
       "        text-align: right;\n",
       "    }\n",
       "</style>\n",
       "<table border=\"1\" class=\"dataframe\">\n",
       "  <thead>\n",
       "    <tr style=\"text-align: right;\">\n",
       "      <th></th>\n",
       "      <th>id</th>\n",
       "      <th>Gender</th>\n",
       "      <th>Age</th>\n",
       "      <th>Driving_License</th>\n",
       "      <th>Region_Code</th>\n",
       "      <th>Previously_Insured</th>\n",
       "      <th>Vehicle_Age</th>\n",
       "      <th>Vehicle_Damage</th>\n",
       "      <th>Annual_Premium</th>\n",
       "      <th>Policy_Sales_Channel</th>\n",
       "      <th>Vintage</th>\n",
       "      <th>Response</th>\n",
       "    </tr>\n",
       "  </thead>\n",
       "  <tbody>\n",
       "    <tr>\n",
       "      <th>318095</th>\n",
       "      <td>318096</td>\n",
       "      <td>Female</td>\n",
       "      <td>29</td>\n",
       "      <td>1</td>\n",
       "      <td>14.0</td>\n",
       "      <td>1</td>\n",
       "      <td>&lt; 1 Year</td>\n",
       "      <td>No</td>\n",
       "      <td>31038.0</td>\n",
       "      <td>152.0</td>\n",
       "      <td>10</td>\n",
       "      <td>0</td>\n",
       "    </tr>\n",
       "    <tr>\n",
       "      <th>121636</th>\n",
       "      <td>121637</td>\n",
       "      <td>Male</td>\n",
       "      <td>35</td>\n",
       "      <td>1</td>\n",
       "      <td>43.0</td>\n",
       "      <td>0</td>\n",
       "      <td>1-2 Year</td>\n",
       "      <td>Yes</td>\n",
       "      <td>2630.0</td>\n",
       "      <td>160.0</td>\n",
       "      <td>222</td>\n",
       "      <td>0</td>\n",
       "    </tr>\n",
       "    <tr>\n",
       "      <th>161380</th>\n",
       "      <td>161381</td>\n",
       "      <td>Female</td>\n",
       "      <td>38</td>\n",
       "      <td>1</td>\n",
       "      <td>28.0</td>\n",
       "      <td>0</td>\n",
       "      <td>1-2 Year</td>\n",
       "      <td>Yes</td>\n",
       "      <td>59487.0</td>\n",
       "      <td>26.0</td>\n",
       "      <td>191</td>\n",
       "      <td>1</td>\n",
       "    </tr>\n",
       "  </tbody>\n",
       "</table>\n",
       "</div>"
      ],
      "text/plain": [
       "            id  Gender  Age  Driving_License  Region_Code  Previously_Insured  \\\n",
       "318095  318096  Female   29                1         14.0                   1   \n",
       "121636  121637    Male   35                1         43.0                   0   \n",
       "161380  161381  Female   38                1         28.0                   0   \n",
       "\n",
       "       Vehicle_Age Vehicle_Damage  Annual_Premium  Policy_Sales_Channel  \\\n",
       "318095    < 1 Year             No         31038.0                 152.0   \n",
       "121636    1-2 Year            Yes          2630.0                 160.0   \n",
       "161380    1-2 Year            Yes         59487.0                  26.0   \n",
       "\n",
       "        Vintage  Response  \n",
       "318095       10         0  \n",
       "121636      222         0  \n",
       "161380      191         1  "
      ]
     },
     "execution_count": 335,
     "metadata": {},
     "output_type": "execute_result"
    }
   ],
   "source": [
    "df.sample(3)"
   ]
  },
  {
   "cell_type": "markdown",
   "id": "ef03da2d-d4bb-4b59-80f9-ec598f86e6d6",
   "metadata": {
    "tags": []
   },
   "source": [
    "## Variables Info"
   ]
  },
  {
   "cell_type": "code",
   "execution_count": 336,
   "id": "9e6af3fa-5070-45be-a834-2f25f1c22438",
   "metadata": {},
   "outputs": [
    {
     "name": "stdout",
     "output_type": "stream",
     "text": [
      "<class 'pandas.core.frame.DataFrame'>\n",
      "RangeIndex: 381109 entries, 0 to 381108\n",
      "Data columns (total 12 columns):\n",
      " #   Column                Non-Null Count   Dtype  \n",
      "---  ------                --------------   -----  \n",
      " 0   id                    381109 non-null  int64  \n",
      " 1   Gender                381109 non-null  object \n",
      " 2   Age                   381109 non-null  int64  \n",
      " 3   Driving_License       381109 non-null  int64  \n",
      " 4   Region_Code           381109 non-null  float64\n",
      " 5   Previously_Insured    381109 non-null  int64  \n",
      " 6   Vehicle_Age           381109 non-null  object \n",
      " 7   Vehicle_Damage        381109 non-null  object \n",
      " 8   Annual_Premium        381109 non-null  float64\n",
      " 9   Policy_Sales_Channel  381109 non-null  float64\n",
      " 10  Vintage               381109 non-null  int64  \n",
      " 11  Response              381109 non-null  int64  \n",
      "dtypes: float64(3), int64(6), object(3)\n",
      "memory usage: 34.9+ MB\n"
     ]
    }
   ],
   "source": [
    "df.info()"
   ]
  },
  {
   "cell_type": "markdown",
   "id": "61509507-d53a-45f8-820f-17066d74e6f1",
   "metadata": {},
   "source": [
    "For consistency purposes, I want to change the variable names to lowercase."
   ]
  },
  {
   "cell_type": "code",
   "execution_count": 338,
   "id": "3e2b6322-252f-4141-b914-2204f07b63eb",
   "metadata": {},
   "outputs": [],
   "source": [
    "# Changing variable names to lowercase\n",
    "df.columns = df.columns.str.lower()"
   ]
  },
  {
   "cell_type": "markdown",
   "id": "fa9d49ee-a95e-4efa-b4f9-33079454fa7b",
   "metadata": {},
   "source": [
    "Below is a list of descriptions of the variables contained in the dataset:\n",
    "\n",
    "- `id`: Unique ID for the customer\n",
    "- `gender`:Gender of the customer\n",
    "- `age`: Age of the customer\n",
    "- `driving_license`: 0 : Customer does not have DL, 1 : Customer already has DL\n",
    "- `region_code`: Unique code for the region of the customer\n",
    "- `previously_insured`: 1 : Customer already has Vehicle Insurance, 0 : Customer doesn't have Vehicle Insurance\n",
    "- `vehicle_age`: Age of the Vehicle\n",
    "- `vehicle_damage`: 1 : Customer got his/her vehicle damaged in the past. 0 : Customer didn't get his/her vehicle damaged in the past.\n",
    "- `annual_premium`: The amount customer needs to pay as premium in a year\n",
    "- `policy_sales_Channel`: Anonymized Code for the channel of outreaching to the customer ie. Different Agents, Over Mail, Over Phone, In Person, etc.\n",
    "- `vintage`: Number of Days, Customer has been associated with the company\n",
    "- `response`: 1 : Customer is interested, 0 : Customer is not interested"
   ]
  },
  {
   "cell_type": "markdown",
   "id": "3bbba2ea-51dc-49e7-98cf-7eca8edabb9f",
   "metadata": {},
   "source": [
    "Since the data type of `id`, `region_code`, and `policy_sales_channel` are still in numerical form, while the value represents the categorical values, we will change it to string first."
   ]
  },
  {
   "cell_type": "code",
   "execution_count": 339,
   "id": "391c5cee-a931-4ce3-9c24-ddf601e4176d",
   "metadata": {},
   "outputs": [],
   "source": [
    "# Converting datatype\n",
    "df['id']= df['id'].astype(str)\n",
    "df['region_code']= df['region_code'].astype(str).str.split('.').str[0]\n",
    "df['policy_sales_channel']= df['policy_sales_channel'].astype(str).str.split('.').str[0]"
   ]
  },
  {
   "cell_type": "markdown",
   "id": "f232813b-2914-4fad-8a98-d3214d700173",
   "metadata": {},
   "source": [
    "In addition, for ease in interpreting statistical analysis, variables containing binary values will be converted to string. However, in the later process, the values will be converted back to an integer for modeling purposes."
   ]
  },
  {
   "cell_type": "code",
   "execution_count": 340,
   "id": "81946c71-f8b2-4191-a4ab-206577ac7725",
   "metadata": {},
   "outputs": [],
   "source": [
    "var= ['driving_license', 'previously_insured', 'response']\n",
    "\n",
    "for col in var:\n",
    "    df[col] = df[col].astype(str)"
   ]
  },
  {
   "cell_type": "code",
   "execution_count": 341,
   "id": "9f6cd66e-db86-441a-a83d-d1bde7ce082e",
   "metadata": {},
   "outputs": [
    {
     "name": "stdout",
     "output_type": "stream",
     "text": [
      "<class 'pandas.core.frame.DataFrame'>\n",
      "RangeIndex: 381109 entries, 0 to 381108\n",
      "Data columns (total 12 columns):\n",
      " #   Column                Non-Null Count   Dtype  \n",
      "---  ------                --------------   -----  \n",
      " 0   id                    381109 non-null  object \n",
      " 1   gender                381109 non-null  object \n",
      " 2   age                   381109 non-null  int64  \n",
      " 3   driving_license       381109 non-null  object \n",
      " 4   region_code           381109 non-null  object \n",
      " 5   previously_insured    381109 non-null  object \n",
      " 6   vehicle_age           381109 non-null  object \n",
      " 7   vehicle_damage        381109 non-null  object \n",
      " 8   annual_premium        381109 non-null  float64\n",
      " 9   policy_sales_channel  381109 non-null  object \n",
      " 10  vintage               381109 non-null  int64  \n",
      " 11  response              381109 non-null  object \n",
      "dtypes: float64(1), int64(2), object(9)\n",
      "memory usage: 34.9+ MB\n"
     ]
    }
   ],
   "source": [
    "df.info()"
   ]
  },
  {
   "cell_type": "markdown",
   "id": "6853efdc-0161-4b34-baee-97460a024a94",
   "metadata": {
    "tags": []
   },
   "source": [
    "## Checking Null and Duplicated Values "
   ]
  },
  {
   "cell_type": "code",
   "execution_count": 342,
   "id": "fd83d270-3a94-431e-9d8f-3c96aa13989c",
   "metadata": {},
   "outputs": [
    {
     "data": {
      "text/plain": [
       "id                      0\n",
       "gender                  0\n",
       "age                     0\n",
       "driving_license         0\n",
       "region_code             0\n",
       "previously_insured      0\n",
       "vehicle_age             0\n",
       "vehicle_damage          0\n",
       "annual_premium          0\n",
       "policy_sales_channel    0\n",
       "vintage                 0\n",
       "response                0\n",
       "dtype: int64"
      ]
     },
     "execution_count": 342,
     "metadata": {},
     "output_type": "execute_result"
    }
   ],
   "source": [
    "# Null values check\n",
    "df.isna().sum()"
   ]
  },
  {
   "cell_type": "code",
   "execution_count": 343,
   "id": "af7e70a8-c75f-418f-a355-57daad84b20e",
   "metadata": {},
   "outputs": [
    {
     "data": {
      "text/plain": [
       "0"
      ]
     },
     "execution_count": 343,
     "metadata": {},
     "output_type": "execute_result"
    }
   ],
   "source": [
    "# Duplicated values check\n",
    "df.duplicated().sum()"
   ]
  },
  {
   "cell_type": "markdown",
   "id": "30097b19-b687-4266-b97e-bebf70b25f65",
   "metadata": {},
   "source": [
    "It can be seen that there is no empty or duplicate data, so there is no need for further handling."
   ]
  },
  {
   "cell_type": "markdown",
   "id": "39f3b764-97e6-4d6d-aa45-f7fcf241fba0",
   "metadata": {},
   "source": [
    "# EDA\n",
    "<a id='eda'></a>"
   ]
  },
  {
   "cell_type": "code",
   "execution_count": 344,
   "id": "e7271a0c-3a5b-40b1-943a-ac6529dab063",
   "metadata": {},
   "outputs": [
    {
     "data": {
      "text/html": [
       "<div>\n",
       "<style scoped>\n",
       "    .dataframe tbody tr th:only-of-type {\n",
       "        vertical-align: middle;\n",
       "    }\n",
       "\n",
       "    .dataframe tbody tr th {\n",
       "        vertical-align: top;\n",
       "    }\n",
       "\n",
       "    .dataframe thead th {\n",
       "        text-align: right;\n",
       "    }\n",
       "</style>\n",
       "<table border=\"1\" class=\"dataframe\">\n",
       "  <thead>\n",
       "    <tr style=\"text-align: right;\">\n",
       "      <th></th>\n",
       "      <th>age</th>\n",
       "      <th>annual_premium</th>\n",
       "      <th>vintage</th>\n",
       "    </tr>\n",
       "  </thead>\n",
       "  <tbody>\n",
       "    <tr>\n",
       "      <th>count</th>\n",
       "      <td>381109.000000</td>\n",
       "      <td>381109.000000</td>\n",
       "      <td>381109.000000</td>\n",
       "    </tr>\n",
       "    <tr>\n",
       "      <th>mean</th>\n",
       "      <td>38.822584</td>\n",
       "      <td>30564.389581</td>\n",
       "      <td>154.347397</td>\n",
       "    </tr>\n",
       "    <tr>\n",
       "      <th>std</th>\n",
       "      <td>15.511611</td>\n",
       "      <td>17213.155057</td>\n",
       "      <td>83.671304</td>\n",
       "    </tr>\n",
       "    <tr>\n",
       "      <th>min</th>\n",
       "      <td>20.000000</td>\n",
       "      <td>2630.000000</td>\n",
       "      <td>10.000000</td>\n",
       "    </tr>\n",
       "    <tr>\n",
       "      <th>25%</th>\n",
       "      <td>25.000000</td>\n",
       "      <td>24405.000000</td>\n",
       "      <td>82.000000</td>\n",
       "    </tr>\n",
       "    <tr>\n",
       "      <th>50%</th>\n",
       "      <td>36.000000</td>\n",
       "      <td>31669.000000</td>\n",
       "      <td>154.000000</td>\n",
       "    </tr>\n",
       "    <tr>\n",
       "      <th>75%</th>\n",
       "      <td>49.000000</td>\n",
       "      <td>39400.000000</td>\n",
       "      <td>227.000000</td>\n",
       "    </tr>\n",
       "    <tr>\n",
       "      <th>max</th>\n",
       "      <td>85.000000</td>\n",
       "      <td>540165.000000</td>\n",
       "      <td>299.000000</td>\n",
       "    </tr>\n",
       "  </tbody>\n",
       "</table>\n",
       "</div>"
      ],
      "text/plain": [
       "                 age  annual_premium        vintage\n",
       "count  381109.000000   381109.000000  381109.000000\n",
       "mean       38.822584    30564.389581     154.347397\n",
       "std        15.511611    17213.155057      83.671304\n",
       "min        20.000000     2630.000000      10.000000\n",
       "25%        25.000000    24405.000000      82.000000\n",
       "50%        36.000000    31669.000000     154.000000\n",
       "75%        49.000000    39400.000000     227.000000\n",
       "max        85.000000   540165.000000     299.000000"
      ]
     },
     "execution_count": 344,
     "metadata": {},
     "output_type": "execute_result"
    }
   ],
   "source": [
    "# Numerical data distribution\n",
    "df.describe()"
   ]
  },
  {
   "cell_type": "markdown",
   "id": "b96d4ccb-2e48-43c8-99e5-8b794a510dad",
   "metadata": {},
   "source": [
    "Below is a summarized interpretation of the above statistics:\n",
    "\n",
    "- Age:\n",
    "The average age of customers is approximately 38.82 years, with a standard deviation of 15.51.\n",
    "The youngest customer is 20 years old, while the oldest is 85.\n",
    "Half of the customers are 36 years old or younger.\n",
    "- Annual Premium:\n",
    "The average annual premium paid by customers is around 30564.39, with a standard deviation of 17213.16.\n",
    "The lowest premium observed is 2630, while the highest is 540165.\n",
    "- Vintage:\n",
    "On average, customers have been with the company for about 154 days, with a standard deviation of 83.67.\n",
    "The shortest tenure observed is 10 days, and the longest is 299 days."
   ]
  },
  {
   "cell_type": "markdown",
   "id": "1d6523f6-0277-44c6-94e5-0759761aea5d",
   "metadata": {
    "tags": []
   },
   "source": [
    "## Visualizing Variables: `age` `annual_premium` `vintage`"
   ]
  },
  {
   "cell_type": "code",
   "execution_count": 345,
   "id": "67340ebe-9e4c-42bb-bacf-44bd3470b0fc",
   "metadata": {},
   "outputs": [
    {
     "data": {
      "image/png": "[encoded data removed]",
      "text/plain": [
       "<Figure size 1400x600 with 3 Axes>"
      ]
     },
     "metadata": {},
     "output_type": "display_data"
    }
   ],
   "source": [
    "plt.figure(figsize=(14, 6))\n",
    "\n",
    "plt.subplot(1, 3, 1)\n",
    "sns.boxplot(data=df, y='age')\n",
    "plt.title(\"Age Distribution\")\n",
    "\n",
    "plt.subplot(1, 3, 2)\n",
    "sns.boxplot(data=df, y='annual_premium')\n",
    "plt.title(\"Premium Distribution\")\n",
    "\n",
    "plt.subplot(1, 3, 3)\n",
    "sns.boxplot(data=df, y='vintage')\n",
    "plt.title(\"Vintage Distribution\")\n",
    "\n",
    "plt.tight_layout()"
   ]
  },
  {
   "cell_type": "markdown",
   "id": "a75c0d95-726c-4367-8acd-e4b31c3e8c3c",
   "metadata": {},
   "source": [
    "- `age`:</br>\n",
    "The age distribution of customers in our dataset is skewed to the right, with the majority falling between the ages of 20 to 26. This suggests that a significant portion of our customer base consists of younger individuals.\n",
    "\n",
    "- `annual_premium`:</br>\n",
    "Examining the distribution of annual premiums reveals that most customers pay premiums below 100,000 units. However, it's worth noting that there are outliers, with some customers paying premiums well above 500,000 units. This variation is reasonable, as it could be attributed to specific medical conditions or a desire for enhanced insurance coverage. The right-skewed nature of this distribution implies that there are relatively few customers with extremely high premiums, which may require further consideration during model development to avoid undue influence from outliers.\n",
    "\n",
    "- `vintage`:</br>\n",
    "The distribution of vintage, representing the duration since customers joined, shows a normal distribution pattern. This suggests that the all of the customers joined within the past year, with a tapering-off of the number of customers who joined earlier. This normal distribution in vintage indicates a relatively even distribution of customers across the duration since joining.\n",
    "\n",
    "Overall, these insights into the distributions of age, annual premium, and vintage provide valuable information for data preprocessing and modeling, especially in addressing outliers and tailoring our approaches to different customer segments."
   ]
  },
  {
   "cell_type": "code",
   "execution_count": 346,
   "id": "969ebd79-4dc0-4aec-8e92-01816d6f5d4f",
   "metadata": {},
   "outputs": [
    {
     "data": {
      "text/html": [
       "<div>\n",
       "<style scoped>\n",
       "    .dataframe tbody tr th:only-of-type {\n",
       "        vertical-align: middle;\n",
       "    }\n",
       "\n",
       "    .dataframe tbody tr th {\n",
       "        vertical-align: top;\n",
       "    }\n",
       "\n",
       "    .dataframe thead th {\n",
       "        text-align: right;\n",
       "    }\n",
       "</style>\n",
       "<table border=\"1\" class=\"dataframe\">\n",
       "  <thead>\n",
       "    <tr style=\"text-align: right;\">\n",
       "      <th></th>\n",
       "      <th>gender</th>\n",
       "      <th>driving_license</th>\n",
       "      <th>region_code</th>\n",
       "      <th>previously_insured</th>\n",
       "      <th>vehicle_age</th>\n",
       "      <th>vehicle_damage</th>\n",
       "      <th>policy_sales_channel</th>\n",
       "      <th>response</th>\n",
       "    </tr>\n",
       "  </thead>\n",
       "  <tbody>\n",
       "    <tr>\n",
       "      <th>count</th>\n",
       "      <td>381109</td>\n",
       "      <td>381109</td>\n",
       "      <td>381109</td>\n",
       "      <td>381109</td>\n",
       "      <td>381109</td>\n",
       "      <td>381109</td>\n",
       "      <td>381109</td>\n",
       "      <td>381109</td>\n",
       "    </tr>\n",
       "    <tr>\n",
       "      <th>unique</th>\n",
       "      <td>2</td>\n",
       "      <td>2</td>\n",
       "      <td>53</td>\n",
       "      <td>2</td>\n",
       "      <td>3</td>\n",
       "      <td>2</td>\n",
       "      <td>155</td>\n",
       "      <td>2</td>\n",
       "    </tr>\n",
       "    <tr>\n",
       "      <th>top</th>\n",
       "      <td>Male</td>\n",
       "      <td>1</td>\n",
       "      <td>28</td>\n",
       "      <td>0</td>\n",
       "      <td>1-2 Year</td>\n",
       "      <td>Yes</td>\n",
       "      <td>152</td>\n",
       "      <td>0</td>\n",
       "    </tr>\n",
       "    <tr>\n",
       "      <th>freq</th>\n",
       "      <td>206089</td>\n",
       "      <td>380297</td>\n",
       "      <td>106415</td>\n",
       "      <td>206481</td>\n",
       "      <td>200316</td>\n",
       "      <td>192413</td>\n",
       "      <td>134784</td>\n",
       "      <td>334399</td>\n",
       "    </tr>\n",
       "  </tbody>\n",
       "</table>\n",
       "</div>"
      ],
      "text/plain": [
       "        gender driving_license region_code previously_insured vehicle_age  \\\n",
       "count   381109          381109      381109             381109      381109   \n",
       "unique       2               2          53                  2           3   \n",
       "top       Male               1          28                  0    1-2 Year   \n",
       "freq    206089          380297      106415             206481      200316   \n",
       "\n",
       "       vehicle_damage policy_sales_channel response  \n",
       "count          381109               381109   381109  \n",
       "unique              2                  155        2  \n",
       "top               Yes                  152        0  \n",
       "freq           192413               134784   334399  "
      ]
     },
     "execution_count": 346,
     "metadata": {},
     "output_type": "execute_result"
    }
   ],
   "source": [
    "# Categorical data distribution\n",
    "cat = df.select_dtypes(include= ['object']).columns.tolist()         \n",
    "df[cat].drop('id', axis= 1).describe()"
   ]
  },
  {
   "cell_type": "markdown",
   "id": "fbc843c3-d7eb-40fb-b987-b523f181e7a2",
   "metadata": {},
   "source": [
    "Below is a summarized interpretation of the statistics for the categorical variables:\n",
    "\n",
    "- Gender: The most frequent gender is 'Male' with a frequency of 206,089.\n",
    "- Region Code: There are 53 unique region codes with the region code '28' being the most frequent with a frequency of 106,415.\n",
    "- Vehicle Age: There are three unique categories: '1-2 Year', 'Less than 1 Year', and '2-3 Year' with the catgory of '1-2 Year' being the most common vehicle age with a frequency of 200,316.\n",
    "- Policy Sales Channel: There are 155 unique policy sales channels with the channel '152' being the most frequently used policy sales channel with a frequency of 134,784."
   ]
  },
  {
   "cell_type": "markdown",
   "id": "84efe435-c166-4fe9-8964-ea4e6279948e",
   "metadata": {},
   "source": [
    "## Visualizing Variables: `gender` `driving_license` `previously_insured` `vehicle_damage`"
   ]
  },
  {
   "cell_type": "code",
   "execution_count": 347,
   "id": "d38a46eb-1896-4fe4-af61-911cf434307e",
   "metadata": {
    "tags": []
   },
   "outputs": [
    {
     "data": {
      "image/png": "[encoded data removed]",
      "text/plain": [
       "<Figure size 1200x1000 with 4 Axes>"
      ]
     },
     "metadata": {},
     "output_type": "display_data"
    }
   ],
   "source": [
    "# Plotting distribution of 'gender', 'diving_license', 'previously_insured', 'vehicle_damage'\n",
    "columns = ['gender', 'driving_license', 'previously_insured', 'vehicle_damage']\n",
    "\n",
    "fig, axes = plt.subplots(2, 2, figsize=(12, 10))\n",
    "axes = axes.ravel()\n",
    "\n",
    "for i, col in enumerate(columns):\n",
    "    counts = df[col].value_counts()\n",
    "    \n",
    "    axes[i].pie(counts, labels=counts.index, autopct='%1.1f%%', startangle=140)\n",
    "    axes[i].set_title(f'Distribution of {col}')\n",
    "    \n",
    "plt.tight_layout()"
   ]
  },
  {
   "cell_type": "markdown",
   "id": "5ca2a0bc-4e87-4cc4-aefd-d13679eee425",
   "metadata": {},
   "source": [
    "## Visualizing Variables: `vehicle_age`"
   ]
  },
  {
   "cell_type": "code",
   "execution_count": 348,
   "id": "885f5efa-ee19-4e1c-ac2a-f02d0075df5b",
   "metadata": {},
   "outputs": [
    {
     "data": {
      "text/plain": [
       "Text(0.5, 1.0, 'Distribution of Vehicle Age')"
      ]
     },
     "execution_count": 348,
     "metadata": {},
     "output_type": "execute_result"
    },
    {
     "data": {
      "image/png": "[encoded data removed]",
      "text/plain": [
       "<Figure size 600x500 with 1 Axes>"
      ]
     },
     "metadata": {},
     "output_type": "display_data"
    }
   ],
   "source": [
    "# Plotting distribution of 'vehicle_age'\n",
    "counts = df['vehicle_age'].value_counts()\n",
    "\n",
    "plt.figure(figsize= (6, 5))\n",
    "plt.pie(counts, labels= counts.index, autopct= '%1.1f%%', startangle=140)\n",
    "plt.title(\"Distribution of Vehicle Age\")"
   ]
  },
  {
   "cell_type": "markdown",
   "id": "9f8fe911-c04d-417e-a1fd-0f41db83b2ed",
   "metadata": {},
   "source": [
    "## Visualizing Variables: `gender` vs `response`"
   ]
  },
  {
   "cell_type": "code",
   "execution_count": 349,
   "id": "686a9448-a629-44ab-9ee6-442043029e96",
   "metadata": {},
   "outputs": [
    {
     "data": {
      "text/plain": [
       "Text(0.5, 1.0, 'Response Distribution by Gender')"
      ]
     },
     "execution_count": 349,
     "metadata": {},
     "output_type": "execute_result"
    },
    {
     "data": {
      "image/png": "[encoded data removed]",
      "text/plain": [
       "<Figure size 800x500 with 1 Axes>"
      ]
     },
     "metadata": {},
     "output_type": "display_data"
    }
   ],
   "source": [
    "# Plotting distribution of 'gender' vs 'response'\n",
    "plt.figure(figsize= (8, 5))\n",
    "sns.countplot(df, x= 'response', hue= 'gender')\n",
    "plt.title(\"Response Distribution by Gender\")"
   ]
  },
  {
   "cell_type": "markdown",
   "id": "19d324b3-d078-43fd-98ce-18df99d2ce95",
   "metadata": {},
   "source": [
    "## Visualizing Variables: `age` vs `response`"
   ]
  },
  {
   "cell_type": "code",
   "execution_count": 350,
   "id": "5116d88c-4fa9-4568-adf2-529ac7048a76",
   "metadata": {},
   "outputs": [
    {
     "data": {
      "text/plain": [
       "Text(0.5, 1.0, 'Age and Responses Distribution')"
      ]
     },
     "execution_count": 350,
     "metadata": {},
     "output_type": "execute_result"
    },
    {
     "data": {
      "image/png": "[encoded data removed]",
      "text/plain": [
       "<Figure size 800x500 with 1 Axes>"
      ]
     },
     "metadata": {},
     "output_type": "display_data"
    }
   ],
   "source": [
    "# Plotting distribution of 'age' vs 'response'\n",
    "plt.figure(figsize= (8, 5))\n",
    "sns.histplot(df, x= 'age', hue= 'response', bins= 10)\n",
    "plt.title(\"Age and Responses Distribution\")"
   ]
  },
  {
   "cell_type": "markdown",
   "id": "2995787c-27b9-4241-9878-7abe1fe1e1b5",
   "metadata": {},
   "source": [
    "## Visualizing Variables: Most Frequent `region_code`"
   ]
  },
  {
   "cell_type": "code",
   "execution_count": 351,
   "id": "ee4a4042-9648-40c1-9694-4f1a6c5eb940",
   "metadata": {},
   "outputs": [
    {
     "data": {
      "text/plain": [
       "Text(0.5, 1.0, '5 Most Frequent Region Code')"
      ]
     },
     "execution_count": 351,
     "metadata": {},
     "output_type": "execute_result"
    },
    {
     "data": {
      "image/png": "[encoded data removed]",
      "text/plain": [
       "<Figure size 800x400 with 1 Axes>"
      ]
     },
     "metadata": {},
     "output_type": "display_data"
    }
   ],
   "source": [
    "# Plotting 5 most frequent 'region_code'\n",
    "reg_code= df.groupby('region_code').agg({'id': 'count'}).reset_index().sort_values(by= 'id', ascending= False)\n",
    "reg_code= reg_code.rename(columns={'id': 'count'})\n",
    "\n",
    "plt.figure(figsize= (8, 4))\n",
    "sns.barplot(reg_code.head(5), x= 'count', y= 'region_code')\n",
    "plt.title(\"5 Most Frequent Region Code\")"
   ]
  },
  {
   "cell_type": "markdown",
   "id": "e0bc6c46-db01-4c48-910d-8823877cd5fd",
   "metadata": {},
   "source": [
    "## Visualizing Variables: Most Frequent `policy_sales_channel`"
   ]
  },
  {
   "cell_type": "code",
   "execution_count": 352,
   "id": "50d5a75b-6fd4-4eb4-a9ec-714694b739d0",
   "metadata": {},
   "outputs": [
    {
     "data": {
      "text/plain": [
       "Text(0.5, 1.0, '5 Most Frequently Used Channel')"
      ]
     },
     "execution_count": 352,
     "metadata": {},
     "output_type": "execute_result"
    },
    {
     "data": {
      "image/png": "[encoded data removed]",
      "text/plain": [
       "<Figure size 800x400 with 1 Axes>"
      ]
     },
     "metadata": {},
     "output_type": "display_data"
    }
   ],
   "source": [
    "# Plotting 5 most frequently 'region_code'\n",
    "channel= df.groupby('policy_sales_channel').agg({'id': 'count'}).reset_index().sort_values(by= 'id', ascending= False)\n",
    "channel= channel.rename(columns= {'id': 'count'})\n",
    "\n",
    "plt.figure(figsize= (8, 4))\n",
    "sns.barplot(channel.head(5), x= 'count', y= 'policy_sales_channel')\n",
    "plt.title(\"5 Most Frequently Used Channel\")"
   ]
  },
  {
   "cell_type": "markdown",
   "id": "cebbf544-eaa9-4a4a-a239-88ad481d9daf",
   "metadata": {
    "tags": []
   },
   "source": [
    "# Data Preprocessing\n",
    "<a id='preprocess'></a>"
   ]
  },
  {
   "cell_type": "code",
   "execution_count": 353,
   "id": "7f0c5c64-f665-4d0f-a320-76852f5dd19b",
   "metadata": {},
   "outputs": [],
   "source": [
    "dfprep = df.copy()"
   ]
  },
  {
   "cell_type": "code",
   "execution_count": 354,
   "id": "e8f11f18-93b9-4f76-b6e4-0c30bf37ad24",
   "metadata": {},
   "outputs": [
    {
     "data": {
      "text/html": [
       "<div>\n",
       "<style scoped>\n",
       "    .dataframe tbody tr th:only-of-type {\n",
       "        vertical-align: middle;\n",
       "    }\n",
       "\n",
       "    .dataframe tbody tr th {\n",
       "        vertical-align: top;\n",
       "    }\n",
       "\n",
       "    .dataframe thead th {\n",
       "        text-align: right;\n",
       "    }\n",
       "</style>\n",
       "<table border=\"1\" class=\"dataframe\">\n",
       "  <thead>\n",
       "    <tr style=\"text-align: right;\">\n",
       "      <th></th>\n",
       "      <th>id</th>\n",
       "      <th>gender</th>\n",
       "      <th>age</th>\n",
       "      <th>driving_license</th>\n",
       "      <th>region_code</th>\n",
       "      <th>previously_insured</th>\n",
       "      <th>vehicle_age</th>\n",
       "      <th>vehicle_damage</th>\n",
       "      <th>annual_premium</th>\n",
       "      <th>policy_sales_channel</th>\n",
       "      <th>vintage</th>\n",
       "      <th>response</th>\n",
       "    </tr>\n",
       "  </thead>\n",
       "  <tbody>\n",
       "    <tr>\n",
       "      <th>44469</th>\n",
       "      <td>44470</td>\n",
       "      <td>Male</td>\n",
       "      <td>22</td>\n",
       "      <td>1</td>\n",
       "      <td>37</td>\n",
       "      <td>0</td>\n",
       "      <td>&lt; 1 Year</td>\n",
       "      <td>Yes</td>\n",
       "      <td>26878.0</td>\n",
       "      <td>152</td>\n",
       "      <td>286</td>\n",
       "      <td>0</td>\n",
       "    </tr>\n",
       "    <tr>\n",
       "      <th>224633</th>\n",
       "      <td>224634</td>\n",
       "      <td>Male</td>\n",
       "      <td>60</td>\n",
       "      <td>1</td>\n",
       "      <td>47</td>\n",
       "      <td>1</td>\n",
       "      <td>1-2 Year</td>\n",
       "      <td>No</td>\n",
       "      <td>34747.0</td>\n",
       "      <td>16</td>\n",
       "      <td>294</td>\n",
       "      <td>0</td>\n",
       "    </tr>\n",
       "    <tr>\n",
       "      <th>252583</th>\n",
       "      <td>252584</td>\n",
       "      <td>Female</td>\n",
       "      <td>24</td>\n",
       "      <td>1</td>\n",
       "      <td>6</td>\n",
       "      <td>0</td>\n",
       "      <td>&lt; 1 Year</td>\n",
       "      <td>Yes</td>\n",
       "      <td>29338.0</td>\n",
       "      <td>152</td>\n",
       "      <td>123</td>\n",
       "      <td>0</td>\n",
       "    </tr>\n",
       "  </tbody>\n",
       "</table>\n",
       "</div>"
      ],
      "text/plain": [
       "            id  gender  age driving_license region_code previously_insured  \\\n",
       "44469    44470    Male   22               1          37                  0   \n",
       "224633  224634    Male   60               1          47                  1   \n",
       "252583  252584  Female   24               1           6                  0   \n",
       "\n",
       "       vehicle_age vehicle_damage  annual_premium policy_sales_channel  \\\n",
       "44469     < 1 Year            Yes         26878.0                  152   \n",
       "224633    1-2 Year             No         34747.0                   16   \n",
       "252583    < 1 Year            Yes         29338.0                  152   \n",
       "\n",
       "        vintage response  \n",
       "44469       286        0  \n",
       "224633      294        0  \n",
       "252583      123        0  "
      ]
     },
     "execution_count": 354,
     "metadata": {},
     "output_type": "execute_result"
    }
   ],
   "source": [
    "dfprep.sample(3)"
   ]
  },
  {
   "cell_type": "markdown",
   "id": "7ab451a3-166e-49d9-9bbf-25c8403de593",
   "metadata": {
    "tags": []
   },
   "source": [
    "## Feature Encoding"
   ]
  },
  {
   "cell_type": "markdown",
   "id": "818f9d1e-9ad7-45f2-b592-7a877786ae6c",
   "metadata": {},
   "source": [
    "In this process, I will change the data type of the variable from categorical to numeric. For several variables whose data I previously changed to strings, I will change them back to numeric."
   ]
  },
  {
   "cell_type": "markdown",
   "id": "785fe2ed-956f-4c90-a94c-98dd73d353b0",
   "metadata": {},
   "source": [
    "### `gender` "
   ]
  },
  {
   "cell_type": "code",
   "execution_count": 355,
   "id": "7d1d61d8-a8f4-4e65-896b-9073ef129754",
   "metadata": {},
   "outputs": [],
   "source": [
    "# Encoding 'gender': 0 for female, 1 for male\n",
    "dfprep['gender_enc'] = dfprep['gender'].replace({'Male' : 1, 'Female': 0})"
   ]
  },
  {
   "cell_type": "markdown",
   "id": "9251689c-bdd3-4eb3-8d59-18ccbea3b412",
   "metadata": {},
   "source": [
    "### `driving_license` `previously_insured` `response`"
   ]
  },
  {
   "cell_type": "code",
   "execution_count": 357,
   "id": "7e9ab9c2-a4ee-49c2-af99-52bb6d2fb275",
   "metadata": {},
   "outputs": [],
   "source": [
    "# Converting back to the numeric data type\n",
    "var= ['driving_license', 'previously_insured', 'response']\n",
    "\n",
    "for col in var:\n",
    "    dfprep[col] = dfprep[col].astype(int)"
   ]
  },
  {
   "cell_type": "markdown",
   "id": "8c195018-df52-45e5-8059-8c8120dfd06e",
   "metadata": {},
   "source": [
    "### `vehicle_damage`"
   ]
  },
  {
   "cell_type": "code",
   "execution_count": 358,
   "id": "1fbad59c-3d44-4c1e-b174-d826c4f768a6",
   "metadata": {},
   "outputs": [],
   "source": [
    "# Encoding 'vehicle_damage': 0 for No, 1 for Yes\n",
    "dfprep['vehicle_damage'] = dfprep['vehicle_damage'].replace({'Yes': 1, 'No': 0})"
   ]
  },
  {
   "cell_type": "markdown",
   "id": "4f1b0bc1-c6d7-4f69-a5b1-c117d303b6a3",
   "metadata": {},
   "source": [
    "### `vehicle_age`"
   ]
  },
  {
   "cell_type": "code",
   "execution_count": 359,
   "id": "33eebb03-6524-48d0-b527-cccc65c20f8c",
   "metadata": {},
   "outputs": [],
   "source": [
    "# Encoding 'vehicle_age' using label encoder\n",
    "from sklearn.preprocessing import LabelEncoder\n",
    "\n",
    "label_encoder = LabelEncoder()\n",
    "\n",
    "dfprep['veh_age_enc'] = label_encoder.fit_transform(dfprep['vehicle_age'])"
   ]
  },
  {
   "cell_type": "markdown",
   "id": "40492b15-0ac9-4ead-b55d-5a2ec570378a",
   "metadata": {},
   "source": [
    "### `region_code` `policy_sales_channel`"
   ]
  },
  {
   "cell_type": "markdown",
   "id": "07797e8d-d504-409d-8ace-1e4dd240fb18",
   "metadata": {},
   "source": [
    "Because there are many unique values for these two variables, I will categorize them based on the value count for each value in the dataset. For the variable `region_code`, values that have a value count of less than 13,000, I will categorize as 'others'. Meanwhile, for the variable `policy_sales_channel`, values that have a value count of less than 10,000, I will categorize as 'others'. After that, one-hot encoding will be carried out on both variables."
   ]
  },
  {
   "cell_type": "code",
   "execution_count": 360,
   "id": "7c55d35c-0f1f-4e1b-8ab5-f75353652c5f",
   "metadata": {},
   "outputs": [],
   "source": [
    "# Categorizing 'reg_code'\n",
    "dfprep['reg_code_count'] = dfprep.groupby('region_code')['region_code'].transform('count')\n",
    "\n",
    "reg_code_cluster= []\n",
    "\n",
    "for i in range(len(dfprep)):\n",
    "    if dfprep['reg_code_count'][i] < 13000:\n",
    "        cluster= 'others'\n",
    "    else:\n",
    "        cluster = dfprep['region_code'][i]\n",
    "    reg_code_cluster.append(cluster)\n",
    "    \n",
    "dfprep['reg_code_cluster'] = reg_code_cluster"
   ]
  },
  {
   "cell_type": "code",
   "execution_count": 361,
   "id": "de31366d-3106-46bd-9ca2-518636d9d9f6",
   "metadata": {},
   "outputs": [],
   "source": [
    "# OHE 'reg_code'\n",
    "dfprep= pd.get_dummies(dfprep, columns= ['reg_code_cluster'])"
   ]
  },
  {
   "cell_type": "code",
   "execution_count": 362,
   "id": "b34dce2d-dd45-4c1d-ab3e-a312d85d6155",
   "metadata": {},
   "outputs": [],
   "source": [
    "# Categorizing 'policy_sales_channel'\n",
    "dfprep['channel_count'] = dfprep.groupby('policy_sales_channel')['policy_sales_channel'].transform('count')\n",
    "\n",
    "channel_cluster= []\n",
    "\n",
    "for i in range(len(dfprep)):\n",
    "    if dfprep['channel_count'][i] < 10000:\n",
    "        cluster= 'others'\n",
    "    else:\n",
    "        cluster= dfprep['policy_sales_channel'][i]\n",
    "    channel_cluster.append(cluster)\n",
    "    \n",
    "dfprep['channel_cluster']= channel_cluster"
   ]
  },
  {
   "cell_type": "code",
   "execution_count": 363,
   "id": "f60f90ca-efca-4ff7-b398-edf47af77c6a",
   "metadata": {},
   "outputs": [],
   "source": [
    "# OHE 'policy_sales_channel'\n",
    "dfprep= pd.get_dummies(dfprep, columns= ['channel_cluster'])"
   ]
  },
  {
   "cell_type": "markdown",
   "id": "7c2a1606-0253-4997-911c-2ca7a1c60754",
   "metadata": {
    "tags": []
   },
   "source": [
    "## Feature Selection"
   ]
  },
  {
   "cell_type": "markdown",
   "id": "45a68445-9af2-43d8-9a5d-2599a7080701",
   "metadata": {},
   "source": [
    "In this stage, several irrelevant features and several features that are already represented by other features resulting from the encoding feature will be removed."
   ]
  },
  {
   "cell_type": "code",
   "execution_count": 364,
   "id": "8d8ef2f4-b265-4336-92f6-59e3c5969bd9",
   "metadata": {},
   "outputs": [
    {
     "data": {
      "text/plain": [
       "Index(['id', 'gender', 'age', 'driving_license', 'region_code',\n",
       "       'previously_insured', 'vehicle_age', 'vehicle_damage', 'annual_premium',\n",
       "       'policy_sales_channel', 'vintage', 'response', 'gender_enc',\n",
       "       'veh_age_enc', 'reg_code_count', 'reg_code_cluster_15',\n",
       "       'reg_code_cluster_28', 'reg_code_cluster_41', 'reg_code_cluster_46',\n",
       "       'reg_code_cluster_8', 'reg_code_cluster_others', 'channel_count',\n",
       "       'channel_cluster_124', 'channel_cluster_152', 'channel_cluster_156',\n",
       "       'channel_cluster_160', 'channel_cluster_26', 'channel_cluster_others'],\n",
       "      dtype='object')"
      ]
     },
     "execution_count": 364,
     "metadata": {},
     "output_type": "execute_result"
    }
   ],
   "source": [
    "dfprep.columns"
   ]
  },
  {
   "cell_type": "code",
   "execution_count": 365,
   "id": "f15eaba4-d9a7-45ca-b1b9-5c90b2d69eb4",
   "metadata": {},
   "outputs": [],
   "source": [
    "# Creating new DF with some features dropped\n",
    "dfmodel = dfprep.drop(['id', 'gender', 'region_code', 'vehicle_age', 'policy_sales_channel', 'reg_code_count', 'channel_count'], axis= 1)"
   ]
  },
  {
   "cell_type": "code",
   "execution_count": 366,
   "id": "084dcf30-60e6-4bac-9af7-9ebebd1bf020",
   "metadata": {},
   "outputs": [
    {
     "data": {
      "text/plain": [
       "Index(['age', 'driving_license', 'previously_insured', 'vehicle_damage',\n",
       "       'annual_premium', 'vintage', 'response', 'gender_enc', 'veh_age_enc',\n",
       "       'reg_code_cluster_15', 'reg_code_cluster_28', 'reg_code_cluster_41',\n",
       "       'reg_code_cluster_46', 'reg_code_cluster_8', 'reg_code_cluster_others',\n",
       "       'channel_cluster_124', 'channel_cluster_152', 'channel_cluster_156',\n",
       "       'channel_cluster_160', 'channel_cluster_26', 'channel_cluster_others'],\n",
       "      dtype='object')"
      ]
     },
     "execution_count": 366,
     "metadata": {},
     "output_type": "execute_result"
    }
   ],
   "source": [
    "dfmodel.columns"
   ]
  },
  {
   "cell_type": "markdown",
   "id": "d3e8b8e5-c3fd-4ddb-9305-34b1978c9ce3",
   "metadata": {},
   "source": [
    "## Data Splitting"
   ]
  },
  {
   "cell_type": "code",
   "execution_count": 367,
   "id": "dffb8f93-3d39-458f-b972-63d63550b11a",
   "metadata": {},
   "outputs": [],
   "source": [
    "# Splitting features and target\n",
    "from sklearn.model_selection import train_test_split\n",
    "\n",
    "X= dfmodel.drop('response', axis= 1)\n",
    "y= dfmodel['response']\n",
    "\n",
    "X_train, X_test, y_train, y_test= train_test_split(X, y, test_size= 0.3, random_state= 0)"
   ]
  },
  {
   "cell_type": "code",
   "execution_count": 368,
   "id": "272602ad-06f1-4913-915b-ccc74ee1c396",
   "metadata": {},
   "outputs": [
    {
     "data": {
      "text/html": [
       "<div>\n",
       "<style scoped>\n",
       "    .dataframe tbody tr th:only-of-type {\n",
       "        vertical-align: middle;\n",
       "    }\n",
       "\n",
       "    .dataframe tbody tr th {\n",
       "        vertical-align: top;\n",
       "    }\n",
       "\n",
       "    .dataframe thead th {\n",
       "        text-align: right;\n",
       "    }\n",
       "</style>\n",
       "<table border=\"1\" class=\"dataframe\">\n",
       "  <thead>\n",
       "    <tr style=\"text-align: right;\">\n",
       "      <th></th>\n",
       "      <th>age</th>\n",
       "      <th>driving_license</th>\n",
       "      <th>previously_insured</th>\n",
       "      <th>vehicle_damage</th>\n",
       "      <th>annual_premium</th>\n",
       "      <th>vintage</th>\n",
       "      <th>gender_enc</th>\n",
       "      <th>veh_age_enc</th>\n",
       "      <th>reg_code_cluster_15</th>\n",
       "      <th>reg_code_cluster_28</th>\n",
       "      <th>reg_code_cluster_41</th>\n",
       "      <th>reg_code_cluster_46</th>\n",
       "      <th>reg_code_cluster_8</th>\n",
       "      <th>reg_code_cluster_others</th>\n",
       "      <th>channel_cluster_124</th>\n",
       "      <th>channel_cluster_152</th>\n",
       "      <th>channel_cluster_156</th>\n",
       "      <th>channel_cluster_160</th>\n",
       "      <th>channel_cluster_26</th>\n",
       "      <th>channel_cluster_others</th>\n",
       "    </tr>\n",
       "  </thead>\n",
       "  <tbody>\n",
       "    <tr>\n",
       "      <th>305464</th>\n",
       "      <td>54</td>\n",
       "      <td>1</td>\n",
       "      <td>1</td>\n",
       "      <td>0</td>\n",
       "      <td>51511.0</td>\n",
       "      <td>61</td>\n",
       "      <td>1</td>\n",
       "      <td>0</td>\n",
       "      <td>0</td>\n",
       "      <td>0</td>\n",
       "      <td>0</td>\n",
       "      <td>0</td>\n",
       "      <td>1</td>\n",
       "      <td>0</td>\n",
       "      <td>0</td>\n",
       "      <td>0</td>\n",
       "      <td>0</td>\n",
       "      <td>0</td>\n",
       "      <td>1</td>\n",
       "      <td>0</td>\n",
       "    </tr>\n",
       "    <tr>\n",
       "      <th>304027</th>\n",
       "      <td>44</td>\n",
       "      <td>1</td>\n",
       "      <td>0</td>\n",
       "      <td>0</td>\n",
       "      <td>38108.0</td>\n",
       "      <td>183</td>\n",
       "      <td>1</td>\n",
       "      <td>0</td>\n",
       "      <td>0</td>\n",
       "      <td>1</td>\n",
       "      <td>0</td>\n",
       "      <td>0</td>\n",
       "      <td>0</td>\n",
       "      <td>0</td>\n",
       "      <td>0</td>\n",
       "      <td>0</td>\n",
       "      <td>0</td>\n",
       "      <td>0</td>\n",
       "      <td>1</td>\n",
       "      <td>0</td>\n",
       "    </tr>\n",
       "    <tr>\n",
       "      <th>113499</th>\n",
       "      <td>48</td>\n",
       "      <td>1</td>\n",
       "      <td>0</td>\n",
       "      <td>1</td>\n",
       "      <td>34346.0</td>\n",
       "      <td>210</td>\n",
       "      <td>1</td>\n",
       "      <td>0</td>\n",
       "      <td>0</td>\n",
       "      <td>1</td>\n",
       "      <td>0</td>\n",
       "      <td>0</td>\n",
       "      <td>0</td>\n",
       "      <td>0</td>\n",
       "      <td>0</td>\n",
       "      <td>0</td>\n",
       "      <td>0</td>\n",
       "      <td>0</td>\n",
       "      <td>1</td>\n",
       "      <td>0</td>\n",
       "    </tr>\n",
       "  </tbody>\n",
       "</table>\n",
       "</div>"
      ],
      "text/plain": [
       "        age  driving_license  previously_insured  vehicle_damage  \\\n",
       "305464   54                1                   1               0   \n",
       "304027   44                1                   0               0   \n",
       "113499   48                1                   0               1   \n",
       "\n",
       "        annual_premium  vintage  gender_enc  veh_age_enc  reg_code_cluster_15  \\\n",
       "305464         51511.0       61           1            0                    0   \n",
       "304027         38108.0      183           1            0                    0   \n",
       "113499         34346.0      210           1            0                    0   \n",
       "\n",
       "        reg_code_cluster_28  reg_code_cluster_41  reg_code_cluster_46  \\\n",
       "305464                    0                    0                    0   \n",
       "304027                    1                    0                    0   \n",
       "113499                    1                    0                    0   \n",
       "\n",
       "        reg_code_cluster_8  reg_code_cluster_others  channel_cluster_124  \\\n",
       "305464                   1                        0                    0   \n",
       "304027                   0                        0                    0   \n",
       "113499                   0                        0                    0   \n",
       "\n",
       "        channel_cluster_152  channel_cluster_156  channel_cluster_160  \\\n",
       "305464                    0                    0                    0   \n",
       "304027                    0                    0                    0   \n",
       "113499                    0                    0                    0   \n",
       "\n",
       "        channel_cluster_26  channel_cluster_others  \n",
       "305464                   1                       0  \n",
       "304027                   1                       0  \n",
       "113499                   1                       0  "
      ]
     },
     "execution_count": 368,
     "metadata": {},
     "output_type": "execute_result"
    }
   ],
   "source": [
    "X_train.sample(3)"
   ]
  },
  {
   "cell_type": "markdown",
   "id": "96708051-b28c-42f6-b1e6-3bfcf169bbef",
   "metadata": {},
   "source": [
    "## Features Scaling"
   ]
  },
  {
   "cell_type": "code",
   "execution_count": 369,
   "id": "a3666e36-1bef-46cd-b357-a7897ba72476",
   "metadata": {},
   "outputs": [],
   "source": [
    "# Standardizing scale for some variables\n",
    "from sklearn.preprocessing import RobustScaler\n",
    "\n",
    "rs= RobustScaler()\n",
    "\n",
    "to_scale = ['age', 'annual_premium', 'vintage']\n",
    "\n",
    "for var in to_scale:\n",
    "    scaler= rs.fit(X_train[[var]])\n",
    "    X_train[var]= scaler.transform(X_train[[var]])\n",
    "    X_test[var]= scaler.transform(X_test[[var]])"
   ]
  },
  {
   "cell_type": "markdown",
   "id": "566429ff-f299-4c4d-bfbe-c0a3dd8de3a2",
   "metadata": {},
   "source": [
    "## Oversampling"
   ]
  },
  {
   "cell_type": "markdown",
   "id": "a16d0bf9-a949-4d60-b329-427f360ce494",
   "metadata": {},
   "source": [
    "The purpose of this process is to overcome the problem of class imbalance (number of responses 1 vs number of responses 2) so that the model can learn well from both classes by creating similar synthetic data."
   ]
  },
  {
   "cell_type": "code",
   "execution_count": 370,
   "id": "82e37315-ed5d-43c2-8185-1e77c6d3df25",
   "metadata": {},
   "outputs": [
    {
     "data": {
      "text/plain": [
       "0    234158\n",
       "1     32618\n",
       "Name: response, dtype: int64"
      ]
     },
     "execution_count": 370,
     "metadata": {},
     "output_type": "execute_result"
    }
   ],
   "source": [
    "y_train.value_counts()"
   ]
  },
  {
   "cell_type": "code",
   "execution_count": 371,
   "id": "5f30abfa-1a31-4f2d-ba70-77e67c986cb7",
   "metadata": {},
   "outputs": [],
   "source": [
    "# Oversampling\n",
    "from imblearn.over_sampling import SMOTE\n",
    "\n",
    "smote= SMOTE(sampling_strategy= 'auto', random_state= 0)\n",
    "\n",
    "X_train, y_train = smote.fit_resample(X_train, y_train)"
   ]
  },
  {
   "cell_type": "code",
   "execution_count": 372,
   "id": "831de9e6-9274-4bbd-bc10-5f5f7803d453",
   "metadata": {},
   "outputs": [
    {
     "data": {
      "text/plain": [
       "1    234158\n",
       "0    234158\n",
       "Name: response, dtype: int64"
      ]
     },
     "execution_count": 372,
     "metadata": {},
     "output_type": "execute_result"
    }
   ],
   "source": [
    "y_train.value_counts()"
   ]
  },
  {
   "cell_type": "markdown",
   "id": "8bcdb738-a605-4502-aef7-3b14a191e0fe",
   "metadata": {
    "tags": []
   },
   "source": [
    "# Modeling\n",
    "<a id='model'></a>"
   ]
  },
  {
   "cell_type": "markdown",
   "id": "46b40a61-5a92-4fd6-9f9c-4821cc8c1dd5",
   "metadata": {},
   "source": [
    "In this process, I will try to use several models and look for the model with the best overall performance in terms of several metrics."
   ]
  },
  {
   "cell_type": "code",
   "execution_count": 373,
   "id": "5b600ab9-3d90-46eb-b041-b88ba43d0830",
   "metadata": {},
   "outputs": [],
   "source": [
    "# Importing library for modeling and evaluation\n",
    "from sklearn.ensemble import RandomForestClassifier\n",
    "from xgboost import XGBClassifier\n",
    "from sklearn.linear_model import LogisticRegression\n",
    "from sklearn.naive_bayes import GaussianNB\n",
    "from sklearn.metrics import accuracy_score, precision_score, recall_score, f1_score, roc_auc_score, roc_curve, auc\n",
    "from sklearn.model_selection import cross_validate\n",
    "from sklearn.tree import DecisionTreeClassifier"
   ]
  },
  {
   "cell_type": "code",
   "execution_count": 374,
   "id": "e2cba203-d7c7-44e2-85da-086d292c9f29",
   "metadata": {},
   "outputs": [],
   "source": [
    "# Creating function to evaluate the model\n",
    "def eval_classification(model):\n",
    "    y_pred = model.predict(X_test)\n",
    "    y_pred_train = model.predict(X_train)\n",
    "    y_pred_proba = model.predict_proba(X_test)\n",
    "    y_pred_proba_train = model.predict_proba(X_train)\n",
    "    \n",
    "    print(f\"Accuracy (Test): {accuracy_score(y_test, y_pred)}\")\n",
    "    print(f\"Precision (Test): {precision_score(y_test, y_pred)}\")\n",
    "    print(f\"Recall (Test): {recall_score(y_test, y_pred)}\")\n",
    "    print(f\"F1 (Test): {f1_score(y_test, y_pred)}\")\n",
    "    \n",
    "    print(f\"roc_auc (Test proba): {roc_auc_score(y_test, y_pred_proba[:,1])}\")\n",
    "    print(f\"roc_auc (Train proba): {roc_auc_score(y_train, y_pred_proba_train[:,1])}\")\n",
    "    \n",
    "    score = cross_validate(model, X, y, cv=5, scoring='roc_auc', return_train_score=True)\n",
    "    print('roc_auc (crossval train): '+ str(score['train_score'].mean()))\n",
    "    print('roc_auc (crossval test): '+ str(score['test_score'].mean()))"
   ]
  },
  {
   "cell_type": "markdown",
   "id": "4f03057b-23ac-4b6e-aabc-c20c7fa8079b",
   "metadata": {},
   "source": [
    "### Logistic Regression"
   ]
  },
  {
   "cell_type": "code",
   "execution_count": 74,
   "id": "6901b4dc-014a-498e-af51-ae2b36a0090a",
   "metadata": {},
   "outputs": [
    {
     "name": "stdout",
     "output_type": "stream",
     "text": [
      "Accuracy (Test): 0.6729290755949726\n",
      "Precision (Test): 0.2675974867856787\n",
      "Recall (Test): 0.9520295202952029\n",
      "F1 (Test): 0.4177682283151946\n",
      "roc_auc (Test proba): 0.8432691537125304\n",
      "roc_auc (Train proba): 0.8456937021329516\n",
      "roc_auc (crossval train): 0.7436484481480268\n",
      "roc_auc (crossval test): 0.7441094770886137\n"
     ]
    }
   ],
   "source": [
    "lr= LogisticRegression()\n",
    "lr.fit(X_train, y_train)\n",
    "\n",
    "eval_classification(lr)"
   ]
  },
  {
   "cell_type": "markdown",
   "id": "cde299f8-61ea-461e-9cd5-1a5ac1c0352f",
   "metadata": {
    "tags": []
   },
   "source": [
    "### Decission Tree"
   ]
  },
  {
   "cell_type": "code",
   "execution_count": 77,
   "id": "43c32f90-cbc4-489d-9313-184e4f98c48c",
   "metadata": {},
   "outputs": [
    {
     "name": "stdout",
     "output_type": "stream",
     "text": [
      "Accuracy (Test): 0.8170169592331173\n",
      "Precision (Test): 0.285184020132117\n",
      "Recall (Test): 0.3216718705648595\n",
      "F1 (Test): 0.3023310101043786\n",
      "roc_auc (Test proba): 0.6047763164262631\n",
      "roc_auc (Train proba): 0.9999988041758687\n",
      "roc_auc (crossval train): 0.9999883498058357\n",
      "roc_auc (crossval test): 0.6000181479014349\n"
     ]
    }
   ],
   "source": [
    "dt= DecisionTreeClassifier()\n",
    "dt.fit(X_train, y_train)\n",
    "\n",
    "eval_classification(dt)"
   ]
  },
  {
   "cell_type": "markdown",
   "id": "2f0c6671-9907-47d5-8f7b-a209e6e85d16",
   "metadata": {
    "tags": []
   },
   "source": [
    "### Gaussian NB"
   ]
  },
  {
   "cell_type": "code",
   "execution_count": 81,
   "id": "a3b873a7-87c1-4c8e-a32e-fbd5efb729f7",
   "metadata": {},
   "outputs": [
    {
     "name": "stdout",
     "output_type": "stream",
     "text": [
      "Accuracy (Test): 0.6852002483972256\n",
      "Precision (Test): 0.2728969636635142\n",
      "Recall (Test): 0.933721260289526\n",
      "F1 (Test): 0.42235346985940814\n",
      "roc_auc (Test proba): 0.8267357353422021\n",
      "roc_auc (Train proba): 0.8278570503988951\n",
      "roc_auc (crossval train): 0.8221389795167902\n",
      "roc_auc (crossval test): 0.8221034665108371\n"
     ]
    }
   ],
   "source": [
    "gnb= GaussianNB()\n",
    "gnb.fit(X_train, y_train)\n",
    "\n",
    "eval_classification(gnb)"
   ]
  },
  {
   "cell_type": "markdown",
   "id": "e8804c1f-efd0-49a9-a09f-589efc37c78b",
   "metadata": {
    "tags": []
   },
   "source": [
    "### Random Forrest"
   ]
  },
  {
   "cell_type": "code",
   "execution_count": 75,
   "id": "d08b2975-849b-4f32-b6f5-9f218552fcad",
   "metadata": {},
   "outputs": [
    {
     "name": "stdout",
     "output_type": "stream",
     "text": [
      "Accuracy (Test): 0.8088303464441587\n",
      "Precision (Test): 0.3086590113843576\n",
      "Recall (Test): 0.4444365597502129\n",
      "F1 (Test): 0.3643079428787482\n",
      "roc_auc (Test proba): 0.8225134217622674\n",
      "roc_auc (Train proba): 0.9999938258491406\n",
      "roc_auc (crossval train): 0.9999790920225653\n",
      "roc_auc (crossval test): 0.8220637730733786\n"
     ]
    }
   ],
   "source": [
    "rf= RandomForestClassifier()\n",
    "rf.fit(X_train, y_train)\n",
    "\n",
    "eval_classification(rf)"
   ]
  },
  {
   "cell_type": "markdown",
   "id": "37e8d5bc-9617-47ce-8d00-319c891aeada",
   "metadata": {
    "tags": []
   },
   "source": [
    "### XGB"
   ]
  },
  {
   "cell_type": "code",
   "execution_count": 375,
   "id": "30ebadda-3992-4e2a-a709-5a2724d2bd85",
   "metadata": {},
   "outputs": [
    {
     "name": "stdout",
     "output_type": "stream",
     "text": [
      "Accuracy (Test): 0.8284922113475549\n",
      "Precision (Test): 0.3521783398531697\n",
      "Recall (Test): 0.46636389440817483\n",
      "F1 (Test): 0.40130675052666925\n",
      "roc_auc (Test proba): 0.8477701042502898\n",
      "roc_auc (Train proba): 0.9684439022364573\n",
      "roc_auc (crossval train): 0.8746520386220183\n",
      "roc_auc (crossval test): 0.8519885796376097\n"
     ]
    }
   ],
   "source": [
    "xgb= XGBClassifier()\n",
    "xgb.fit(X_train, y_train)\n",
    "\n",
    "eval_classification(xgb)"
   ]
  },
  {
   "cell_type": "markdown",
   "id": "7f6e1e3d-be5c-4420-9d38-923742e9f0b8",
   "metadata": {},
   "source": [
    "## Interpreting Result"
   ]
  },
  {
   "cell_type": "markdown",
   "id": "94c99102-4868-4908-b6c3-149c86defd3b",
   "metadata": {},
   "source": [
    "Interpretation Summary:\n",
    "\n",
    "- Best Accuracy Rate: XGBoost with 82.84%.\n",
    "- Best Precision Rate: XGBoost with 35.21%.\n",
    "- Best Recall Rate: Logistic Regression with 95.20%.\n",
    "- Best ROC AUC: XGBoost with 84.77%.\n",
    "- Cross-Validation Scores: The XGBoost model shows stable and robust performance in separating classes with ROC AUC of about 87.46% on training data and 84.77% on test data across cross-validation folds.\n",
    "- Best Overfit Rate: Gaussian Naive Bayes with 0.001."
   ]
  },
  {
   "cell_type": "markdown",
   "id": "7fb3f18b-3cbb-42d8-a41f-83187e2e4548",
   "metadata": {},
   "source": [
    "Based on existing metrics, the model with the best overall score is XGBoost. Here are the reasons why XGBoost can be considered the best model:\n",
    "- Accuracy: XGBoost has high accuracy, demonstrating its ability to correctly classify most of the test data.\n",
    "- Precision: XGBoost has the highest precision among all models, demonstrating its ability to correctly identify true positives and reduce false positives.\n",
    "- Recall: Although XGBoost does not have the highest recall, it does have quite good recall, indicating its ability to correctly identify the majority of positive cases.\n",
    "- ROC AUC: XGBoost has the highest ROC AUC, indicating that this model has the best ability in separating positive and negative classes.\n",
    "- Overfit Rate: XGBoost's overfitting rate is relatively low compared to other models, indicating that this model tends to be more stable and can generalize to new data.\n",
    "- Cross-Validation Scores: XGBoost shows stable and robust performance across cross-validation folds, with ROC AUC of approximately 87.49% on training data and 85.28% on test data.\n",
    "\n",
    "Based on these considerations, XGBoost is the best model of all the models tested. However, it is still necessary to consider business factors and specific needs before making a final decision."
   ]
  },
  {
   "cell_type": "code",
   "execution_count": 101,
   "id": "7fd77b9c-5cc0-49d9-b531-f0c31fa424eb",
   "metadata": {},
   "outputs": [
    {
     "data": {
      "image/png": "[encoded data removed]",
      "text/plain": [
       "<Figure size 640x480 with 1 Axes>"
      ]
     },
     "metadata": {},
     "output_type": "display_data"
    },
    {
     "name": "stdout",
     "output_type": "stream",
     "text": [
      "Area under curve (AUC):  0.8477701042502898\n"
     ]
    }
   ],
   "source": [
    "y_score = xgb.predict_proba(X_test)[:,1]\n",
    "fpr, tpr, _ = roc_curve(y_test, y_score)\n",
    "\n",
    "plt.title('XGB ROC curve: Health Insurance Cross Sell Prediction')\n",
    "plt.xlabel('FPR (Precision)')\n",
    "plt.ylabel('TPR (Recall)')\n",
    "\n",
    "plt.plot(fpr,tpr)\n",
    "plt.plot((0,1), ls='dashed',color='black')\n",
    "plt.show()\n",
    "print ('Area under curve (AUC): ', auc(fpr,tpr))"
   ]
  },
  {
   "cell_type": "markdown",
   "id": "04ea0b17-65ca-41e1-a800-b4e898cf4d89",
   "metadata": {
    "jp-MarkdownHeadingCollapsed": true,
    "tags": []
   },
   "source": [
    "## Hyperparameter Tuning\n",
    "\n",
    "After trying to do hyperparameter tuning, it turns out the resulting scores are exactly the same. Possibly because the hyperparameter space is not wide enough. However, due to the limited computing power of my computer, I will not be doing any further tuning. If you want to try it, I wrote the code below. Please change the hyperparameter space to what you want."
   ]
  },
  {
   "cell_type": "markdown",
   "id": "9071970d-0e7a-4d88-ab1a-629795e0d111",
   "metadata": {},
   "source": [
    "In this process, hyperparameter tuning will be carried out only on XGboost which I consider to have the best performance compared to other models."
   ]
  },
  {
   "cell_type": "code",
   "execution_count": 95,
   "id": "7501421c-82bf-40eb-bee9-04354746fc62",
   "metadata": {},
   "outputs": [],
   "source": [
    "from skopt import BayesSearchCV\n",
    "\n",
    "def tuning(model, param_space, n_iter= 50, cv= 5):\n",
    "    \n",
    "    opt = BayesSearchCV(model, param_space, n_iter= n_iter, cv= cv, n_jobs= -1)\n",
    "    opt.fit(X_train, y_train)\n",
    "    \n",
    "    best_estimator= opt.best_estimator_\n",
    "    \n",
    "    val_score = best_estimator.score(X_test, y_test)\n",
    "\n",
    "    print(f\"Best parameters: {best_estimator}\")\n",
    "    print(f\"roc_auc: {val_score:.2f}\")\n",
    "\n",
    "    return best_estimator"
   ]
  },
  {
   "cell_type": "code",
   "execution_count": 89,
   "id": "7ca3592c-3449-4b18-ab6a-6330f3ee4f94",
   "metadata": {},
   "outputs": [
    {
     "name": "stdout",
     "output_type": "stream",
     "text": [
      "Model Terbaik: XGBClassifier(base_score=None, booster=None, callbacks=None,\n",
      "              colsample_bylevel=None, colsample_bynode=None,\n",
      "              colsample_bytree=0.9, early_stopping_rounds=None,\n",
      "              enable_categorical=False, eval_metric=None, feature_types=None,\n",
      "              gamma=0.05, gpu_id=None, grow_policy=None, importance_type=None,\n",
      "              interaction_constraints=None, learning_rate=0.2, max_bin=None,\n",
      "              max_cat_threshold=None, max_cat_to_onehot=None,\n",
      "              max_delta_step=None, max_depth=7, max_leaves=None,\n",
      "              min_child_weight=3, missing=nan, monotone_constraints=None,\n",
      "              n_estimators=150, n_jobs=None, num_parallel_tree=None,\n",
      "              predictor=None, random_state=None, ...)\n",
      "Akurasi pada Data Validasi: 0.84\n"
     ]
    }
   ],
   "source": [
    "from scipy.stats import randint, uniform\n",
    "\n",
    "# Hyperparameter space\n",
    "param_space = {'n_estimators': [50, 100, 150],\n",
    "               'max_depth': [3, 4, 5, 6, 7],\n",
    "               'learning_rate': [0.05, 0.1, 0.15, 0.2],\n",
    "               'subsample': [0.7, 0.8, 0.9],\n",
    "               'colsample_bytree': [0.7, 0.8, 0.9],\n",
    "               'gamma': [0, 0.05, 0.1],\n",
    "               'min_child_weight': [3, 4, 5, 6, 7, 8, 9],\n",
    "               'reg_alpha': [0, 0.1, 0.5, 1],\n",
    "               'reg_lambda': [0, 0.1, 0.5, 1]\n",
    "              }\n",
    "\n",
    "best_model = tuning(xgb, param_space, n_iter=50, cv=5)"
   ]
  },
  {
   "cell_type": "code",
   "execution_count": 94,
   "id": "576981bd-6271-4138-904e-b41e316b7170",
   "metadata": {},
   "outputs": [
    {
     "name": "stdout",
     "output_type": "stream",
     "text": [
      "Accuracy (Test): 0.8284922113475549\n",
      "Precision (Test): 0.3521783398531697\n",
      "Recall (Test): 0.46636389440817483\n",
      "F1 (Test): 0.40130675052666925\n",
      "roc_auc (Test proba): 0.8477701042502898\n",
      "roc_auc (Train proba): 0.9684439022364573\n",
      "roc_auc (crossval train): 0.8746520386220183\n",
      "roc_auc (crossval test): 0.8519885796376097\n"
     ]
    }
   ],
   "source": [
    "eval_classification(best_model)"
   ]
  },
  {
   "cell_type": "markdown",
   "id": "6c9a8982-a365-4b96-800f-46f42d0cc0a2",
   "metadata": {
    "tags": []
   },
   "source": [
    "## Feature Importance"
   ]
  },
  {
   "cell_type": "code",
   "execution_count": 500,
   "id": "cb4d779a-81c2-4853-8c1a-82a3c8689c56",
   "metadata": {},
   "outputs": [
    {
     "name": "stdout",
     "output_type": "stream",
     "text": [
      "                    Feature  Importance\n",
      "2        previously_insured    0.812346\n",
      "3            vehicle_damage    0.108285\n",
      "0                       age    0.030913\n",
      "17      channel_cluster_160    0.013604\n",
      "15      channel_cluster_152    0.008219\n",
      "1           driving_license    0.004814\n",
      "18       channel_cluster_26    0.002974\n",
      "5                   vintage    0.002211\n",
      "8       reg_code_cluster_15    0.001935\n",
      "7               veh_age_enc    0.001761\n",
      "9       reg_code_cluster_28    0.001703\n",
      "12       reg_code_cluster_8    0.001662\n",
      "16      channel_cluster_156    0.001537\n",
      "10      reg_code_cluster_41    0.001534\n",
      "11      reg_code_cluster_46    0.001218\n",
      "6                gender_enc    0.001181\n",
      "14      channel_cluster_124    0.001100\n",
      "13  reg_code_cluster_others    0.001084\n",
      "19   channel_cluster_others    0.000994\n",
      "4            annual_premium    0.000926\n"
     ]
    }
   ],
   "source": [
    "# Creating and showing feature importance's score\n",
    "feature_importance = xgb.feature_importances_\n",
    "\n",
    "feature_df= pd.DataFrame({'Feature': X_train.columns, 'Importance': feature_importance})\n",
    "feature_df= feature_df.sort_values(by= 'Importance', ascending= False)\n",
    "\n",
    "print(feature_df)"
   ]
  },
  {
   "cell_type": "markdown",
   "id": "8e8feab5-27d0-494b-9acc-a7b4db76848d",
   "metadata": {},
   "source": [
    "The feature importance scores above indicate the relative importance of each feature in making predictions with the XGBoost model. The higher the feature importance score, the more influential the feature is on the model prediction results.\n",
    "\n",
    "Keep in mind that these scores are based on the specific dataset and the model that was trained. They provide insights into which features were most influential for this particular set of data, but the importance may vary in different contexts or with different datasets."
   ]
  },
  {
   "cell_type": "markdown",
   "id": "08b7a7ab-8a5f-4097-a0da-f527139cf665",
   "metadata": {
    "tags": []
   },
   "source": [
    "# Pedicting Test Data\n",
    "<a id='predict'></a>"
   ]
  },
  {
   "cell_type": "code",
   "execution_count": 480,
   "id": "6fcfdb80-a2ea-4b27-8938-feba9c0d9bb6",
   "metadata": {},
   "outputs": [],
   "source": [
    "dftest= pd.read_csv('test.csv')"
   ]
  },
  {
   "cell_type": "code",
   "execution_count": 481,
   "id": "f8a7471d-1350-49c3-8bac-14340e3930b2",
   "metadata": {},
   "outputs": [
    {
     "data": {
      "text/html": [
       "<div>\n",
       "<style scoped>\n",
       "    .dataframe tbody tr th:only-of-type {\n",
       "        vertical-align: middle;\n",
       "    }\n",
       "\n",
       "    .dataframe tbody tr th {\n",
       "        vertical-align: top;\n",
       "    }\n",
       "\n",
       "    .dataframe thead th {\n",
       "        text-align: right;\n",
       "    }\n",
       "</style>\n",
       "<table border=\"1\" class=\"dataframe\">\n",
       "  <thead>\n",
       "    <tr style=\"text-align: right;\">\n",
       "      <th></th>\n",
       "      <th>id</th>\n",
       "      <th>Gender</th>\n",
       "      <th>Age</th>\n",
       "      <th>Driving_License</th>\n",
       "      <th>Region_Code</th>\n",
       "      <th>Previously_Insured</th>\n",
       "      <th>Vehicle_Age</th>\n",
       "      <th>Vehicle_Damage</th>\n",
       "      <th>Annual_Premium</th>\n",
       "      <th>Policy_Sales_Channel</th>\n",
       "      <th>Vintage</th>\n",
       "    </tr>\n",
       "  </thead>\n",
       "  <tbody>\n",
       "    <tr>\n",
       "      <th>0</th>\n",
       "      <td>381110</td>\n",
       "      <td>Male</td>\n",
       "      <td>25</td>\n",
       "      <td>1</td>\n",
       "      <td>11.0</td>\n",
       "      <td>1</td>\n",
       "      <td>&lt; 1 Year</td>\n",
       "      <td>No</td>\n",
       "      <td>35786.0</td>\n",
       "      <td>152.0</td>\n",
       "      <td>53</td>\n",
       "    </tr>\n",
       "    <tr>\n",
       "      <th>1</th>\n",
       "      <td>381111</td>\n",
       "      <td>Male</td>\n",
       "      <td>40</td>\n",
       "      <td>1</td>\n",
       "      <td>28.0</td>\n",
       "      <td>0</td>\n",
       "      <td>1-2 Year</td>\n",
       "      <td>Yes</td>\n",
       "      <td>33762.0</td>\n",
       "      <td>7.0</td>\n",
       "      <td>111</td>\n",
       "    </tr>\n",
       "    <tr>\n",
       "      <th>2</th>\n",
       "      <td>381112</td>\n",
       "      <td>Male</td>\n",
       "      <td>47</td>\n",
       "      <td>1</td>\n",
       "      <td>28.0</td>\n",
       "      <td>0</td>\n",
       "      <td>1-2 Year</td>\n",
       "      <td>Yes</td>\n",
       "      <td>40050.0</td>\n",
       "      <td>124.0</td>\n",
       "      <td>199</td>\n",
       "    </tr>\n",
       "    <tr>\n",
       "      <th>3</th>\n",
       "      <td>381113</td>\n",
       "      <td>Male</td>\n",
       "      <td>24</td>\n",
       "      <td>1</td>\n",
       "      <td>27.0</td>\n",
       "      <td>1</td>\n",
       "      <td>&lt; 1 Year</td>\n",
       "      <td>Yes</td>\n",
       "      <td>37356.0</td>\n",
       "      <td>152.0</td>\n",
       "      <td>187</td>\n",
       "    </tr>\n",
       "    <tr>\n",
       "      <th>4</th>\n",
       "      <td>381114</td>\n",
       "      <td>Male</td>\n",
       "      <td>27</td>\n",
       "      <td>1</td>\n",
       "      <td>28.0</td>\n",
       "      <td>1</td>\n",
       "      <td>&lt; 1 Year</td>\n",
       "      <td>No</td>\n",
       "      <td>59097.0</td>\n",
       "      <td>152.0</td>\n",
       "      <td>297</td>\n",
       "    </tr>\n",
       "  </tbody>\n",
       "</table>\n",
       "</div>"
      ],
      "text/plain": [
       "       id Gender  Age  Driving_License  Region_Code  Previously_Insured  \\\n",
       "0  381110   Male   25                1         11.0                   1   \n",
       "1  381111   Male   40                1         28.0                   0   \n",
       "2  381112   Male   47                1         28.0                   0   \n",
       "3  381113   Male   24                1         27.0                   1   \n",
       "4  381114   Male   27                1         28.0                   1   \n",
       "\n",
       "  Vehicle_Age Vehicle_Damage  Annual_Premium  Policy_Sales_Channel  Vintage  \n",
       "0    < 1 Year             No         35786.0                 152.0       53  \n",
       "1    1-2 Year            Yes         33762.0                   7.0      111  \n",
       "2    1-2 Year            Yes         40050.0                 124.0      199  \n",
       "3    < 1 Year            Yes         37356.0                 152.0      187  \n",
       "4    < 1 Year             No         59097.0                 152.0      297  "
      ]
     },
     "execution_count": 481,
     "metadata": {},
     "output_type": "execute_result"
    }
   ],
   "source": [
    "dftest.head()"
   ]
  },
  {
   "cell_type": "code",
   "execution_count": 482,
   "id": "8f1056b3-2c9e-4b14-859e-bb6462ee9d04",
   "metadata": {},
   "outputs": [],
   "source": [
    "# Changing variable names to lowercase\n",
    "dftest.columns = dftest.columns.str.lower()"
   ]
  },
  {
   "cell_type": "code",
   "execution_count": 483,
   "id": "ac065534-3625-4fc1-94a2-5b06ae3f857d",
   "metadata": {},
   "outputs": [],
   "source": [
    "# Converting datatype\n",
    "dftest['id']= dftest['id'].astype(str)\n",
    "dftest['region_code']= dftest['region_code'].astype(str).str.split('.').str[0]\n",
    "dftest['policy_sales_channel']= dftest['policy_sales_channel'].astype(str).str.split('.').str[0]"
   ]
  },
  {
   "cell_type": "code",
   "execution_count": 484,
   "id": "0962295d-5dd2-40f6-843f-f14fd4119f81",
   "metadata": {},
   "outputs": [],
   "source": [
    "var= ['driving_license', 'previously_insured']\n",
    "\n",
    "for col in var:\n",
    "    dftest[col] = dftest[col].astype(str)"
   ]
  },
  {
   "cell_type": "markdown",
   "id": "8d0d54d1-c2db-46d7-a43e-ccb44833ea79",
   "metadata": {
    "tags": []
   },
   "source": [
    "## Encoding "
   ]
  },
  {
   "cell_type": "code",
   "execution_count": 485,
   "id": "1d13764e-3bec-45a9-a0f3-138b5c829e0f",
   "metadata": {},
   "outputs": [],
   "source": [
    "# Encoding 'gender': 0 for female, 1 for male\n",
    "dftest['gender_enc'] = dftest['gender'].replace({'Male' : 1, 'Female': 0})"
   ]
  },
  {
   "cell_type": "code",
   "execution_count": 486,
   "id": "96decf08-53a1-43db-85f2-744ee3715316",
   "metadata": {},
   "outputs": [],
   "source": [
    "# Converting back to the numeric data type\n",
    "var= ['driving_license', 'previously_insured']\n",
    "\n",
    "for col in var:\n",
    "    dftest[col] = dftest[col].astype(int)"
   ]
  },
  {
   "cell_type": "code",
   "execution_count": 487,
   "id": "3189938c-1e85-4ec3-945a-8fbb7fb934a5",
   "metadata": {},
   "outputs": [],
   "source": [
    "# Encoding 'vehicle_damage': 0 for No, 1 for Yes\n",
    "dftest['vehicle_damage'] = dftest['vehicle_damage'].replace({'Yes': 1, 'No': 0})"
   ]
  },
  {
   "cell_type": "code",
   "execution_count": 488,
   "id": "be396755-d97e-4262-8ca2-5d80aac605b8",
   "metadata": {},
   "outputs": [],
   "source": [
    "# Encoding 'vehicle_age' using label encoder\n",
    "from sklearn.preprocessing import LabelEncoder\n",
    "\n",
    "label_encoder = LabelEncoder()\n",
    "\n",
    "dftest['veh_age_enc'] = label_encoder.fit_transform(dftest['vehicle_age'])"
   ]
  },
  {
   "cell_type": "code",
   "execution_count": 489,
   "id": "ee6cad09-1935-4eff-9a57-70f4f182db72",
   "metadata": {},
   "outputs": [],
   "source": [
    "# Categorizing 'reg_code'\n",
    "dftest['reg_code_count'] = dftest.groupby('region_code')['region_code'].transform('count')\n",
    "\n",
    "reg_code_cluster= []\n",
    "\n",
    "for i in range(len(dftest)):\n",
    "    if dftest['reg_code_count'][i] < 13000:\n",
    "        cluster= 'others'\n",
    "    else:\n",
    "        cluster = dftest['region_code'][i]\n",
    "    reg_code_cluster.append(cluster)\n",
    "    \n",
    "dftest['reg_code_cluster'] = reg_code_cluster\n",
    "\n",
    "# OHE 'reg_code'\n",
    "dftest= pd.get_dummies(dftest, columns= ['reg_code_cluster'])"
   ]
  },
  {
   "cell_type": "code",
   "execution_count": 490,
   "id": "00074233-14c2-45fb-8f7b-f270ebd88b95",
   "metadata": {},
   "outputs": [],
   "source": [
    "# Categorizing 'policy_sales_channel'\n",
    "dftest['channel_count'] = dftest.groupby('policy_sales_channel')['policy_sales_channel'].transform('count')\n",
    "\n",
    "channel_cluster= []\n",
    "\n",
    "for i in range(len(dftest)):\n",
    "    if dftest['channel_count'][i] < 10000:\n",
    "        cluster= 'others'\n",
    "    else:\n",
    "        cluster= dftest['policy_sales_channel'][i]\n",
    "    channel_cluster.append(cluster)\n",
    "    \n",
    "dftest['channel_cluster']= channel_cluster\n",
    "\n",
    "# OHE 'policy_sales_channel'\n",
    "dftest= pd.get_dummies(dftest, columns= ['channel_cluster'])"
   ]
  },
  {
   "cell_type": "markdown",
   "id": "edbcbd81-883f-4551-8a96-811b8894bde3",
   "metadata": {},
   "source": [
    "## Feature Selection"
   ]
  },
  {
   "cell_type": "code",
   "execution_count": 491,
   "id": "c4546f44-86f4-4a70-b35a-4dba0aaaca86",
   "metadata": {
    "tags": []
   },
   "outputs": [],
   "source": [
    "dftest.drop(['gender', 'region_code', 'vehicle_age', 'policy_sales_channel', 'reg_code_count', 'channel_count'], axis= 1, inplace= True)"
   ]
  },
  {
   "cell_type": "code",
   "execution_count": 492,
   "id": "72cf0299-9b5b-49a1-bd79-845eea1cefdc",
   "metadata": {},
   "outputs": [
    {
     "data": {
      "text/plain": [
       "Index(['id', 'age', 'driving_license', 'previously_insured', 'vehicle_damage',\n",
       "       'annual_premium', 'vintage', 'gender_enc', 'veh_age_enc',\n",
       "       'reg_code_cluster_28', 'reg_code_cluster_others', 'channel_cluster_124',\n",
       "       'channel_cluster_152', 'channel_cluster_26', 'channel_cluster_others'],\n",
       "      dtype='object')"
      ]
     },
     "execution_count": 492,
     "metadata": {},
     "output_type": "execute_result"
    }
   ],
   "source": [
    "dftest.columns"
   ]
  },
  {
   "cell_type": "markdown",
   "id": "ea673ae2-f63b-4ea8-8c7e-5fec1903b024",
   "metadata": {},
   "source": [
    "There is a difference in the number of features between the new test data and train data due to the OHE encoding results for categorical values that are not present in the new test data. Therefore, I will add a new column to have the same number of columns and column order as the train data."
   ]
  },
  {
   "cell_type": "code",
   "execution_count": 493,
   "id": "383a7e4e-88b4-4f38-9ab5-05f4d3c1581d",
   "metadata": {},
   "outputs": [],
   "source": [
    "# Creating features in dftest to match X_train features\n",
    "train_feat= X_train.columns.to_list()\n",
    "test_feat= dftest.columns.to_list()\n",
    "\n",
    "for var in train_feat:\n",
    "    if var not in test_feat:\n",
    "        dftest[var] = 0"
   ]
  },
  {
   "cell_type": "code",
   "execution_count": 494,
   "id": "c508e83d-8b31-4155-b26e-0766cf6862fd",
   "metadata": {},
   "outputs": [],
   "source": [
    "# Rerranging features\n",
    "dftest = dftest[['id'] + train_feat]"
   ]
  },
  {
   "cell_type": "code",
   "execution_count": 495,
   "id": "793cbca8-5e47-44c7-a4ea-1dfa0655562b",
   "metadata": {},
   "outputs": [
    {
     "data": {
      "text/plain": [
       "Index(['age', 'driving_license', 'previously_insured', 'vehicle_damage',\n",
       "       'annual_premium', 'vintage', 'gender_enc', 'veh_age_enc',\n",
       "       'reg_code_cluster_15', 'reg_code_cluster_28', 'reg_code_cluster_41',\n",
       "       'reg_code_cluster_46', 'reg_code_cluster_8', 'reg_code_cluster_others',\n",
       "       'channel_cluster_124', 'channel_cluster_152', 'channel_cluster_156',\n",
       "       'channel_cluster_160', 'channel_cluster_26', 'channel_cluster_others'],\n",
       "      dtype='object')"
      ]
     },
     "execution_count": 495,
     "metadata": {},
     "output_type": "execute_result"
    }
   ],
   "source": [
    "X_train.columns"
   ]
  },
  {
   "cell_type": "code",
   "execution_count": 496,
   "id": "9fb733c4-2842-44b6-964e-f1943fa2117c",
   "metadata": {},
   "outputs": [
    {
     "data": {
      "text/plain": [
       "Index(['id', 'age', 'driving_license', 'previously_insured', 'vehicle_damage',\n",
       "       'annual_premium', 'vintage', 'gender_enc', 'veh_age_enc',\n",
       "       'reg_code_cluster_15', 'reg_code_cluster_28', 'reg_code_cluster_41',\n",
       "       'reg_code_cluster_46', 'reg_code_cluster_8', 'reg_code_cluster_others',\n",
       "       'channel_cluster_124', 'channel_cluster_152', 'channel_cluster_156',\n",
       "       'channel_cluster_160', 'channel_cluster_26', 'channel_cluster_others'],\n",
       "      dtype='object')"
      ]
     },
     "execution_count": 496,
     "metadata": {},
     "output_type": "execute_result"
    }
   ],
   "source": [
    "dftest.columns"
   ]
  },
  {
   "cell_type": "markdown",
   "id": "ba083bb7-95be-42b4-9669-4b91e5250c71",
   "metadata": {},
   "source": [
    "Please note that I still include the `id` feature. This is because the prediction results generated by the model are associated with specific id values. The id feature serves as a crucial link between the original data points and their corresponding predictions, allowing for easy identification and evaluation of individual instances within the dataset."
   ]
  },
  {
   "cell_type": "markdown",
   "id": "df7fd562-173d-4d0c-8c99-ec678e9e3566",
   "metadata": {},
   "source": [
    "## Normalization"
   ]
  },
  {
   "cell_type": "code",
   "execution_count": 472,
   "id": "245b7a57-9732-4b79-9689-c615167596e2",
   "metadata": {},
   "outputs": [],
   "source": [
    "# Standardizing scale for some variables\n",
    "from sklearn.preprocessing import RobustScaler\n",
    "\n",
    "rs= RobustScaler()\n",
    "\n",
    "to_scale = ['age', 'annual_premium', 'vintage']\n",
    "\n",
    "for var in to_scale:\n",
    "    scaler= rs.fit(dftest[[var]])\n",
    "    dftest[var]= scaler.transform(dftest[[var]])"
   ]
  },
  {
   "cell_type": "markdown",
   "id": "a77802b9-076f-4103-9b4f-ef48284f2d2f",
   "metadata": {},
   "source": [
    "## Prediction & Result"
   ]
  },
  {
   "cell_type": "code",
   "execution_count": 473,
   "id": "4e5a2db3-b8ed-4d89-9266-04b2b9d33318",
   "metadata": {},
   "outputs": [],
   "source": [
    "y_pred = xgb.predict(dftest.drop('id', axis= 1))"
   ]
  },
  {
   "cell_type": "code",
   "execution_count": 478,
   "id": "d1510e7a-cfb0-42c5-b70f-bf6d2cd8d0ad",
   "metadata": {},
   "outputs": [
    {
     "data": {
      "text/plain": [
       "0    105410\n",
       "1     21627\n",
       "Name: prediction, dtype: int64"
      ]
     },
     "execution_count": 478,
     "metadata": {},
     "output_type": "execute_result"
    }
   ],
   "source": [
    "dftest['prediction'] = y_pred\n",
    "dftest['prediction'].value_counts()"
   ]
  },
  {
   "cell_type": "code",
   "execution_count": 479,
   "id": "1fcdc582-3309-4e54-805e-345e60317c6b",
   "metadata": {},
   "outputs": [
    {
     "data": {
      "text/html": [
       "<div>\n",
       "<style scoped>\n",
       "    .dataframe tbody tr th:only-of-type {\n",
       "        vertical-align: middle;\n",
       "    }\n",
       "\n",
       "    .dataframe tbody tr th {\n",
       "        vertical-align: top;\n",
       "    }\n",
       "\n",
       "    .dataframe thead th {\n",
       "        text-align: right;\n",
       "    }\n",
       "</style>\n",
       "<table border=\"1\" class=\"dataframe\">\n",
       "  <thead>\n",
       "    <tr style=\"text-align: right;\">\n",
       "      <th></th>\n",
       "      <th>id</th>\n",
       "      <th>prediction</th>\n",
       "    </tr>\n",
       "  </thead>\n",
       "  <tbody>\n",
       "    <tr>\n",
       "      <th>105914</th>\n",
       "      <td>487024</td>\n",
       "      <td>0</td>\n",
       "    </tr>\n",
       "    <tr>\n",
       "      <th>66121</th>\n",
       "      <td>447231</td>\n",
       "      <td>0</td>\n",
       "    </tr>\n",
       "    <tr>\n",
       "      <th>24009</th>\n",
       "      <td>405119</td>\n",
       "      <td>0</td>\n",
       "    </tr>\n",
       "    <tr>\n",
       "      <th>31267</th>\n",
       "      <td>412377</td>\n",
       "      <td>0</td>\n",
       "    </tr>\n",
       "    <tr>\n",
       "      <th>9613</th>\n",
       "      <td>390723</td>\n",
       "      <td>0</td>\n",
       "    </tr>\n",
       "    <tr>\n",
       "      <th>33302</th>\n",
       "      <td>414412</td>\n",
       "      <td>0</td>\n",
       "    </tr>\n",
       "    <tr>\n",
       "      <th>95312</th>\n",
       "      <td>476422</td>\n",
       "      <td>0</td>\n",
       "    </tr>\n",
       "    <tr>\n",
       "      <th>72951</th>\n",
       "      <td>454061</td>\n",
       "      <td>0</td>\n",
       "    </tr>\n",
       "    <tr>\n",
       "      <th>114069</th>\n",
       "      <td>495179</td>\n",
       "      <td>0</td>\n",
       "    </tr>\n",
       "    <tr>\n",
       "      <th>92524</th>\n",
       "      <td>473634</td>\n",
       "      <td>0</td>\n",
       "    </tr>\n",
       "    <tr>\n",
       "      <th>3830</th>\n",
       "      <td>384940</td>\n",
       "      <td>0</td>\n",
       "    </tr>\n",
       "    <tr>\n",
       "      <th>54634</th>\n",
       "      <td>435744</td>\n",
       "      <td>0</td>\n",
       "    </tr>\n",
       "    <tr>\n",
       "      <th>22553</th>\n",
       "      <td>403663</td>\n",
       "      <td>0</td>\n",
       "    </tr>\n",
       "    <tr>\n",
       "      <th>32813</th>\n",
       "      <td>413923</td>\n",
       "      <td>1</td>\n",
       "    </tr>\n",
       "    <tr>\n",
       "      <th>87641</th>\n",
       "      <td>468751</td>\n",
       "      <td>0</td>\n",
       "    </tr>\n",
       "    <tr>\n",
       "      <th>120907</th>\n",
       "      <td>502017</td>\n",
       "      <td>0</td>\n",
       "    </tr>\n",
       "    <tr>\n",
       "      <th>96631</th>\n",
       "      <td>477741</td>\n",
       "      <td>0</td>\n",
       "    </tr>\n",
       "    <tr>\n",
       "      <th>114702</th>\n",
       "      <td>495812</td>\n",
       "      <td>0</td>\n",
       "    </tr>\n",
       "    <tr>\n",
       "      <th>106965</th>\n",
       "      <td>488075</td>\n",
       "      <td>0</td>\n",
       "    </tr>\n",
       "    <tr>\n",
       "      <th>48880</th>\n",
       "      <td>429990</td>\n",
       "      <td>0</td>\n",
       "    </tr>\n",
       "  </tbody>\n",
       "</table>\n",
       "</div>"
      ],
      "text/plain": [
       "            id  prediction\n",
       "105914  487024           0\n",
       "66121   447231           0\n",
       "24009   405119           0\n",
       "31267   412377           0\n",
       "9613    390723           0\n",
       "33302   414412           0\n",
       "95312   476422           0\n",
       "72951   454061           0\n",
       "114069  495179           0\n",
       "92524   473634           0\n",
       "3830    384940           0\n",
       "54634   435744           0\n",
       "22553   403663           0\n",
       "32813   413923           1\n",
       "87641   468751           0\n",
       "120907  502017           0\n",
       "96631   477741           0\n",
       "114702  495812           0\n",
       "106965  488075           0\n",
       "48880   429990           0"
      ]
     },
     "execution_count": 479,
     "metadata": {},
     "output_type": "execute_result"
    }
   ],
   "source": [
    "dftest[['id', 'prediction']].sample(20)"
   ]
  }
 ],
 "metadata": {
  "kernelspec": {
   "display_name": "Python 3 (ipykernel)",
   "language": "python",
   "name": "python3"
  },
  "language_info": {
   "codemirror_mode": {
    "name": "ipython",
    "version": 3
   },
   "file_extension": ".py",
   "mimetype": "text/x-python",
   "name": "python",
   "nbconvert_exporter": "python",
   "pygments_lexer": "ipython3",
   "version": "3.10.9"
  }
 },
 "nbformat": 4,
 "nbformat_minor": 5
}
